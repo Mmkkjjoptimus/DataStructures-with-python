{
 "cells": [
  {
   "cell_type": "code",
   "execution_count": null,
   "id": "be8a6c3e",
   "metadata": {},
   "outputs": [],
   "source": [
    "class Node:\n",
    "    def __init__(self,data):\n",
    "        self.data=data\n",
    "        self.next=None\n",
    "        \n",
    "def takeinput():\n",
    "    inputlist=[int (ele) for ele in input().split()]\n",
    "    head=None\n",
    "    tail=None\n",
    "    for currdata in inputlist:\n",
    "        if currdata==-1:\n",
    "            break\n",
    "        newNode=Node(currdata)\n",
    "        if head == None:\n",
    "            head=newNode\n",
    "            tail=newNode\n",
    "        else:\n",
    "            tail.next=newNode\n",
    "            tail=newNode\n",
    "    return head\n",
    "def printll(head):\n",
    "    while head is not None:\n",
    "        print(head.data,'->',end=' ')\n",
    "        head=head.next\n",
    "    print(\"None\")\n",
    "    return\n",
    "def length(head):\n",
    "    count = 0\n",
    "    while head is not None:\n",
    "        count=count+1\n",
    "        head=head.next\n",
    "    return count\n",
    "\n",
    "\n",
    "def find_element(head,data):\n",
    "    i=0\n",
    "    while head is not None:\n",
    "       \n",
    "        if head.data==data:\n",
    "            return i\n",
    "        else:\n",
    "            head=head.next\n",
    "            i=i+1\n",
    "    return -1\n",
    "        "
   ]
  },
  {
   "cell_type": "code",
   "execution_count": null,
   "id": "8db7c9a4",
   "metadata": {},
   "outputs": [],
   "source": [
    "head=takeinput()\n",
    "printll(head)\n",
    "find_element(head,6)\n"
   ]
  }
 ],
 "metadata": {
  "kernelspec": {
   "display_name": "Python 3 (ipykernel)",
   "language": "python",
   "name": "python3"
  },
  "language_info": {
   "codemirror_mode": {
    "name": "ipython",
    "version": 3
   },
   "file_extension": ".py",
   "mimetype": "text/x-python",
   "name": "python",
   "nbconvert_exporter": "python",
   "pygments_lexer": "ipython3",
   "version": "3.9.12"
  }
 },
 "nbformat": 4,
 "nbformat_minor": 5
}
