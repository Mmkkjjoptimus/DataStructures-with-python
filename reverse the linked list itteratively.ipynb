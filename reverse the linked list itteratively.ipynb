{
 "cells": [
  {
   "cell_type": "code",
   "execution_count": null,
   "id": "046f9181",
   "metadata": {},
   "outputs": [],
   "source": [
    "class Node:\n",
    "    def __init__(self,data):\n",
    "        self.data=data\n",
    "        self.next=None\n",
    "        \n",
    "def takeinput():\n",
    "    inputlist=[int (ele) for ele in input().split()]\n",
    "    head=None\n",
    "    tail=None\n",
    "    for currdata in inputlist:\n",
    "        if currdata==-1:\n",
    "            break\n",
    "        newNode=Node(currdata)\n",
    "        if head == None:\n",
    "            head=newNode\n",
    "            tail=newNode\n",
    "        else:\n",
    "            tail.next=newNode\n",
    "            tail=newNode\n",
    "    return head\n",
    "def printll(head):\n",
    "    while head is not None:\n",
    "        print(head.data,'->',end=' ')\n",
    "        head=head.next\n",
    "    print(\"None\")\n",
    "    return\n",
    "def length(head):\n",
    "    count = 0\n",
    "    while head is not None:\n",
    "        count=count+1\n",
    "        head=head.next\n",
    "    return count\n",
    "\n",
    "\n",
    "\n",
    "def reverseitterative(head):\n",
    "    prev=None\n",
    "    curr=head\n",
    "    while curr is not None:\n",
    "        next1=curr.next\n",
    "        curr.next=prev\n",
    "        prev=curr\n",
    "        curr=next1\n",
    "    head=prev\n",
    "    return head\n",
    "        "
   ]
  },
  {
   "cell_type": "code",
   "execution_count": null,
   "id": "a74e5746",
   "metadata": {},
   "outputs": [],
   "source": [
    "head=takeinput()\n",
    "printll(head)\n",
    "head=reverseitterative(head)\n",
    "printll(head)"
   ]
  }
 ],
 "metadata": {
  "kernelspec": {
   "display_name": "Python 3 (ipykernel)",
   "language": "python",
   "name": "python3"
  },
  "language_info": {
   "codemirror_mode": {
    "name": "ipython",
    "version": 3
   },
   "file_extension": ".py",
   "mimetype": "text/x-python",
   "name": "python",
   "nbconvert_exporter": "python",
   "pygments_lexer": "ipython3",
   "version": "3.9.12"
  }
 },
 "nbformat": 4,
 "nbformat_minor": 5
}
