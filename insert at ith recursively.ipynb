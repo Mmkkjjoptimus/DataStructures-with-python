{
 "cells": [
  {
   "cell_type": "code",
   "execution_count": null,
   "id": "29ef197a",
   "metadata": {},
   "outputs": [],
   "source": [
    "class Node:\n",
    "    def __init__(self,data):\n",
    "        self.data=data\n",
    "        self.next=None\n",
    "        \n",
    "def takeinput():\n",
    "    inputlist=[int (ele) for ele in input().split()]\n",
    "    head=None\n",
    "    tail=None\n",
    "    for currdata in inputlist:\n",
    "        if currdata==-1:\n",
    "            break\n",
    "        newNode=Node(currdata)\n",
    "        if head == None:\n",
    "            head=newNode\n",
    "            tail=newNode\n",
    "        else:\n",
    "            tail.next=newNode\n",
    "            tail=newNode\n",
    "    return head\n",
    "def printll(head):\n",
    "    while head is not None:\n",
    "        print(head.data,'->',end=' ')\n",
    "        head=head.next\n",
    "    print(\"None\")\n",
    "    return\n",
    "def length(head):\n",
    "    count = 0\n",
    "    while head is not None:\n",
    "        count=count+1\n",
    "        head=head.next\n",
    "    print(count)\n",
    "    return\n",
    "def insertAtIR(head,i,data):\n",
    "    if i<0:\n",
    "        return head\n",
    "    if i==0:\n",
    "        newNode=Node(data)\n",
    "        newNode.next=head\n",
    "        return newNode\n",
    "    if head is None:\n",
    "        return None\n",
    "    smallHead=insertAtIR(head.next,i-1,data)\n",
    "    head.next=smallHead\n",
    "    return head"
   ]
  },
  {
   "cell_type": "code",
   "execution_count": null,
   "id": "647ce7cc",
   "metadata": {},
   "outputs": [],
   "source": [
    "head=takeInput()\n",
    "printll(head)\n",
    "head=insertAtIR(head,2,6)\n",
    "printll(head)\n",
    "head=insertAtIR(head,0,9)\n",
    "printll(head)\n",
    "head=insertAtIR(head,7,10)\n",
    "printll(head)"
   ]
  }
 ],
 "metadata": {
  "kernelspec": {
   "display_name": "Python 3 (ipykernel)",
   "language": "python",
   "name": "python3"
  },
  "language_info": {
   "codemirror_mode": {
    "name": "ipython",
    "version": 3
   },
   "file_extension": ".py",
   "mimetype": "text/x-python",
   "name": "python",
   "nbconvert_exporter": "python",
   "pygments_lexer": "ipython3",
   "version": "3.9.12"
  }
 },
 "nbformat": 4,
 "nbformat_minor": 5
}
